{
 "cells": [
  {
   "cell_type": "code",
   "execution_count": null,
   "metadata": {},
   "outputs": [],
   "source": [
    "# Road lane Detecter\n",
    "\n",
    "import cv2\n",
    "import numpy as np\n",
    "\n",
    "image = cv2.imread(r'C:\\Users\\PRIYANSHU PANDEY\\Pictures\\Aviary Photos\\roadlane.jpg',0)\n",
    "\n",
    "threshold1 = 50\n",
    "threshold2 = 200\n",
    "\n",
    "edge_img = cv2.Canny(image, threshold1, threshold2)\n",
    "\n",
    "cv2.imshow('edge image',edge_img)\n",
    "\n",
    "\n",
    "cv2.waitKey(0)\n",
    "cv2.destroyAllWindows()\n"
   ]
  },
  {
   "cell_type": "code",
   "execution_count": null,
   "metadata": {},
   "outputs": [],
   "source": []
  },
  {
   "cell_type": "code",
   "execution_count": null,
   "metadata": {},
   "outputs": [],
   "source": [
    "# Road lane Detecter(removing clutter)\n",
    "\n",
    "import cv2\n",
    "import numpy as np\n",
    "\n",
    "image = cv2.imread(r'C:\\Users\\PRIYANSHU PANDEY\\Pictures\\Aviary Photos\\roadlane.jpg')\n",
    "grayimage = cv2.imread(r'C:\\Users\\PRIYANSHU PANDEY\\Pictures\\Aviary Photos\\roadlane.jpg',0)\n",
    "\n",
    "# smoothing the image and removing the clutter\n",
    "kernel_size = 11\n",
    "img_gray_blur = cv2.GaussianBlur(grayimage, (kernel_size,kernel_size), 0)\n",
    "\n",
    "threshold1 = 100\n",
    "threshold2 = 80\n",
    "\n",
    "img_gray_blur_edge = cv2.Canny(img_gray_blur, threshold1, threshold2)\n",
    "\n",
    "mask = np.zeros(grayimage.shape, dtype = np.uint8)\n",
    "h,w = img_gray_blur.shape\n",
    "\n",
    "roi_corners = np.array([[(.75*w,0.55*h),(.25*w,.55*h),(0,0.9*h),(0,h),(w,h)]], dtype=np.int32)\n",
    "\n",
    "ignore_mask_color = (255,)\n",
    "cv2.fillPoly(mask, roi_corners,ignore_mask_color)\n",
    "cv2.imshow('mask',mask)\n",
    "\n",
    "roi_img = cv2.bitwise_and(img_gray_blur_edge,mask)\n",
    "cv2.imshow('roi_img',roi_img)\n",
    "\n",
    "img_gray_blur_edge_bgr = cv2.cvtColor(img_gray_blur_edge, cv2.COLOR_GRAY2BGR)\n",
    "\n",
    "linesP = cv2.HoughLinesP(roi_img, 5, np.pi/180 , 100, None , 50, 130)\n",
    "if linesP is not None:\n",
    "    for i in range(0,len(linesP)):\n",
    "        l = linesP[i][0]\n",
    "        cv2.line(image, (l[0], l[1]),( l[2], l[3]), (0,0,255), 3, cv2.LINE_AA)\n",
    "cv2.imshow('final',image)\n",
    "\n",
    "cv2.waitKey(0)\n",
    "cv2.destroyAllWindows()\n"
   ]
  }
 ],
 "metadata": {
  "kernelspec": {
   "display_name": "Python 3",
   "language": "python",
   "name": "python3"
  },
  "language_info": {
   "codemirror_mode": {
    "name": "ipython",
    "version": 3
   },
   "file_extension": ".py",
   "mimetype": "text/x-python",
   "name": "python",
   "nbconvert_exporter": "python",
   "pygments_lexer": "ipython3",
   "version": "3.5.6"
  }
 },
 "nbformat": 4,
 "nbformat_minor": 2
}
